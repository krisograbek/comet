{
    "cells": [
        {
            "cell_type": "markdown",
            "source": [
                "### Comet Setup"
            ],
            "metadata": {}
        },
        {
            "cell_type": "code",
            "execution_count": 1,
            "source": [
                "from comet_ml import Experiment\n",
                "from config import api_key\n",
                "\n",
                "# Setting the API key (saved as environment variable)\n",
                "experiment = Experiment(\n",
                "    api_key=api_key,\n",
                "    project_name='covtype')\n"
            ],
            "outputs": [
                {
                    "output_type": "stream",
                    "name": "stderr",
                    "text": [
                        "COMET WARNING: As you are running in a Jupyter environment, you will need to call `experiment.end()` when finished to ensure all metrics and code are logged before exiting.\n",
                        "COMET INFO: Experiment is live on comet.ml https://www.comet.ml/krisograbek/covtype/93fc6db1346d40e4a32c80bb2ca6d397\n",
                        "\n"
                    ]
                }
            ],
            "metadata": {}
        },
        {
            "cell_type": "code",
            "execution_count": 2,
            "source": [
                "import numpy as np\n",
                "import pandas as pd\n",
                "import matplotlib.pyplot as plt\n",
                "\n",
                "from sklearn.datasets import fetch_covtype\n",
                "from sklearn.model_selection import train_test_split, GridSearchCV, RandomizedSearchCV, cross_val_score\n",
                "from sklearn.preprocessing import StandardScaler\n",
                "from sklearn.ensemble import RandomForestClassifier\n",
                "from sklearn.linear_model import LogisticRegression, SGDClassifier\n",
                "from sklearn.metrics import (accuracy_score, \n",
                "    confusion_matrix, \n",
                "    recall_score, \n",
                "    precision_score, \n",
                "    f1_score\n",
                ")\n"
            ],
            "outputs": [],
            "metadata": {}
        },
        {
            "cell_type": "code",
            "execution_count": 3,
            "source": [
                "df = fetch_covtype(return_X_y=True, as_frame=True)\n",
                "data = df[0]\n",
                "target = df[1]\n",
                "data.shape"
            ],
            "outputs": [
                {
                    "output_type": "execute_result",
                    "data": {
                        "text/plain": [
                            "(581012, 54)"
                        ]
                    },
                    "metadata": {},
                    "execution_count": 3
                }
            ],
            "metadata": {}
        },
        {
            "cell_type": "code",
            "execution_count": 4,
            "source": [
                "target.shape"
            ],
            "outputs": [
                {
                    "output_type": "execute_result",
                    "data": {
                        "text/plain": [
                            "(581012,)"
                        ]
                    },
                    "metadata": {},
                    "execution_count": 4
                }
            ],
            "metadata": {}
        },
        {
            "cell_type": "code",
            "execution_count": 5,
            "source": [
                "data.info()"
            ],
            "outputs": [
                {
                    "output_type": "stream",
                    "name": "stdout",
                    "text": [
                        "<class 'pandas.core.frame.DataFrame'>\n",
                        "RangeIndex: 581012 entries, 0 to 581011\n",
                        "Data columns (total 54 columns):\n",
                        " #   Column                              Non-Null Count   Dtype  \n",
                        "---  ------                              --------------   -----  \n",
                        " 0   Elevation                           581012 non-null  float64\n",
                        " 1   Aspect                              581012 non-null  float64\n",
                        " 2   Slope                               581012 non-null  float64\n",
                        " 3   Horizontal_Distance_To_Hydrology    581012 non-null  float64\n",
                        " 4   Vertical_Distance_To_Hydrology      581012 non-null  float64\n",
                        " 5   Horizontal_Distance_To_Roadways     581012 non-null  float64\n",
                        " 6   Hillshade_9am                       581012 non-null  float64\n",
                        " 7   Hillshade_Noon                      581012 non-null  float64\n",
                        " 8   Hillshade_3pm                       581012 non-null  float64\n",
                        " 9   Horizontal_Distance_To_Fire_Points  581012 non-null  float64\n",
                        " 10  Wilderness_Area_0                   581012 non-null  float64\n",
                        " 11  Wilderness_Area_1                   581012 non-null  float64\n",
                        " 12  Wilderness_Area_2                   581012 non-null  float64\n",
                        " 13  Wilderness_Area_3                   581012 non-null  float64\n",
                        " 14  Soil_Type_0                         581012 non-null  float64\n",
                        " 15  Soil_Type_1                         581012 non-null  float64\n",
                        " 16  Soil_Type_2                         581012 non-null  float64\n",
                        " 17  Soil_Type_3                         581012 non-null  float64\n",
                        " 18  Soil_Type_4                         581012 non-null  float64\n",
                        " 19  Soil_Type_5                         581012 non-null  float64\n",
                        " 20  Soil_Type_6                         581012 non-null  float64\n",
                        " 21  Soil_Type_7                         581012 non-null  float64\n",
                        " 22  Soil_Type_8                         581012 non-null  float64\n",
                        " 23  Soil_Type_9                         581012 non-null  float64\n",
                        " 24  Soil_Type_10                        581012 non-null  float64\n",
                        " 25  Soil_Type_11                        581012 non-null  float64\n",
                        " 26  Soil_Type_12                        581012 non-null  float64\n",
                        " 27  Soil_Type_13                        581012 non-null  float64\n",
                        " 28  Soil_Type_14                        581012 non-null  float64\n",
                        " 29  Soil_Type_15                        581012 non-null  float64\n",
                        " 30  Soil_Type_16                        581012 non-null  float64\n",
                        " 31  Soil_Type_17                        581012 non-null  float64\n",
                        " 32  Soil_Type_18                        581012 non-null  float64\n",
                        " 33  Soil_Type_19                        581012 non-null  float64\n",
                        " 34  Soil_Type_20                        581012 non-null  float64\n",
                        " 35  Soil_Type_21                        581012 non-null  float64\n",
                        " 36  Soil_Type_22                        581012 non-null  float64\n",
                        " 37  Soil_Type_23                        581012 non-null  float64\n",
                        " 38  Soil_Type_24                        581012 non-null  float64\n",
                        " 39  Soil_Type_25                        581012 non-null  float64\n",
                        " 40  Soil_Type_26                        581012 non-null  float64\n",
                        " 41  Soil_Type_27                        581012 non-null  float64\n",
                        " 42  Soil_Type_28                        581012 non-null  float64\n",
                        " 43  Soil_Type_29                        581012 non-null  float64\n",
                        " 44  Soil_Type_30                        581012 non-null  float64\n",
                        " 45  Soil_Type_31                        581012 non-null  float64\n",
                        " 46  Soil_Type_32                        581012 non-null  float64\n",
                        " 47  Soil_Type_33                        581012 non-null  float64\n",
                        " 48  Soil_Type_34                        581012 non-null  float64\n",
                        " 49  Soil_Type_35                        581012 non-null  float64\n",
                        " 50  Soil_Type_36                        581012 non-null  float64\n",
                        " 51  Soil_Type_37                        581012 non-null  float64\n",
                        " 52  Soil_Type_38                        581012 non-null  float64\n",
                        " 53  Soil_Type_39                        581012 non-null  float64\n",
                        "dtypes: float64(54)\n",
                        "memory usage: 239.4 MB\n"
                    ]
                }
            ],
            "metadata": {}
        },
        {
            "cell_type": "markdown",
            "source": [
                "All columns are floats. Are they really?"
            ],
            "metadata": {}
        },
        {
            "cell_type": "code",
            "execution_count": 6,
            "source": [
                "data.describe()"
            ],
            "outputs": [
                {
                    "output_type": "execute_result",
                    "data": {
                        "text/plain": [
                            "           Elevation         Aspect          Slope  \\\n",
                            "count  581012.000000  581012.000000  581012.000000   \n",
                            "mean     2959.365301     155.656807      14.103704   \n",
                            "std       279.984734     111.913721       7.488242   \n",
                            "min      1859.000000       0.000000       0.000000   \n",
                            "25%      2809.000000      58.000000       9.000000   \n",
                            "50%      2996.000000     127.000000      13.000000   \n",
                            "75%      3163.000000     260.000000      18.000000   \n",
                            "max      3858.000000     360.000000      66.000000   \n",
                            "\n",
                            "       Horizontal_Distance_To_Hydrology  Vertical_Distance_To_Hydrology  \\\n",
                            "count                     581012.000000                   581012.000000   \n",
                            "mean                         269.428217                       46.418855   \n",
                            "std                          212.549356                       58.295232   \n",
                            "min                            0.000000                     -173.000000   \n",
                            "25%                          108.000000                        7.000000   \n",
                            "50%                          218.000000                       30.000000   \n",
                            "75%                          384.000000                       69.000000   \n",
                            "max                         1397.000000                      601.000000   \n",
                            "\n",
                            "       Horizontal_Distance_To_Roadways  Hillshade_9am  Hillshade_Noon  \\\n",
                            "count                    581012.000000  581012.000000   581012.000000   \n",
                            "mean                       2350.146611     212.146049      223.318716   \n",
                            "std                        1559.254870      26.769889       19.768697   \n",
                            "min                           0.000000       0.000000        0.000000   \n",
                            "25%                        1106.000000     198.000000      213.000000   \n",
                            "50%                        1997.000000     218.000000      226.000000   \n",
                            "75%                        3328.000000     231.000000      237.000000   \n",
                            "max                        7117.000000     254.000000      254.000000   \n",
                            "\n",
                            "       Hillshade_3pm  Horizontal_Distance_To_Fire_Points  ...   Soil_Type_30  \\\n",
                            "count  581012.000000                       581012.000000  ...  581012.000000   \n",
                            "mean      142.528263                         1980.291226  ...       0.044175   \n",
                            "std        38.274529                         1324.195210  ...       0.205483   \n",
                            "min         0.000000                            0.000000  ...       0.000000   \n",
                            "25%       119.000000                         1024.000000  ...       0.000000   \n",
                            "50%       143.000000                         1710.000000  ...       0.000000   \n",
                            "75%       168.000000                         2550.000000  ...       0.000000   \n",
                            "max       254.000000                         7173.000000  ...       1.000000   \n",
                            "\n",
                            "        Soil_Type_31   Soil_Type_32   Soil_Type_33   Soil_Type_34  \\\n",
                            "count  581012.000000  581012.000000  581012.000000  581012.000000   \n",
                            "mean        0.090392       0.077716       0.002773       0.003255   \n",
                            "std         0.286743       0.267725       0.052584       0.056957   \n",
                            "min         0.000000       0.000000       0.000000       0.000000   \n",
                            "25%         0.000000       0.000000       0.000000       0.000000   \n",
                            "50%         0.000000       0.000000       0.000000       0.000000   \n",
                            "75%         0.000000       0.000000       0.000000       0.000000   \n",
                            "max         1.000000       1.000000       1.000000       1.000000   \n",
                            "\n",
                            "        Soil_Type_35   Soil_Type_36   Soil_Type_37   Soil_Type_38  \\\n",
                            "count  581012.000000  581012.000000  581012.000000  581012.000000   \n",
                            "mean        0.000205       0.000513       0.026803       0.023762   \n",
                            "std         0.014310       0.022641       0.161508       0.152307   \n",
                            "min         0.000000       0.000000       0.000000       0.000000   \n",
                            "25%         0.000000       0.000000       0.000000       0.000000   \n",
                            "50%         0.000000       0.000000       0.000000       0.000000   \n",
                            "75%         0.000000       0.000000       0.000000       0.000000   \n",
                            "max         1.000000       1.000000       1.000000       1.000000   \n",
                            "\n",
                            "        Soil_Type_39  \n",
                            "count  581012.000000  \n",
                            "mean        0.015060  \n",
                            "std         0.121791  \n",
                            "min         0.000000  \n",
                            "25%         0.000000  \n",
                            "50%         0.000000  \n",
                            "75%         0.000000  \n",
                            "max         1.000000  \n",
                            "\n",
                            "[8 rows x 54 columns]"
                        ],
                        "text/html": [
                            "<div>\n",
                            "<style scoped>\n",
                            "    .dataframe tbody tr th:only-of-type {\n",
                            "        vertical-align: middle;\n",
                            "    }\n",
                            "\n",
                            "    .dataframe tbody tr th {\n",
                            "        vertical-align: top;\n",
                            "    }\n",
                            "\n",
                            "    .dataframe thead th {\n",
                            "        text-align: right;\n",
                            "    }\n",
                            "</style>\n",
                            "<table border=\"1\" class=\"dataframe\">\n",
                            "  <thead>\n",
                            "    <tr style=\"text-align: right;\">\n",
                            "      <th></th>\n",
                            "      <th>Elevation</th>\n",
                            "      <th>Aspect</th>\n",
                            "      <th>Slope</th>\n",
                            "      <th>Horizontal_Distance_To_Hydrology</th>\n",
                            "      <th>Vertical_Distance_To_Hydrology</th>\n",
                            "      <th>Horizontal_Distance_To_Roadways</th>\n",
                            "      <th>Hillshade_9am</th>\n",
                            "      <th>Hillshade_Noon</th>\n",
                            "      <th>Hillshade_3pm</th>\n",
                            "      <th>Horizontal_Distance_To_Fire_Points</th>\n",
                            "      <th>...</th>\n",
                            "      <th>Soil_Type_30</th>\n",
                            "      <th>Soil_Type_31</th>\n",
                            "      <th>Soil_Type_32</th>\n",
                            "      <th>Soil_Type_33</th>\n",
                            "      <th>Soil_Type_34</th>\n",
                            "      <th>Soil_Type_35</th>\n",
                            "      <th>Soil_Type_36</th>\n",
                            "      <th>Soil_Type_37</th>\n",
                            "      <th>Soil_Type_38</th>\n",
                            "      <th>Soil_Type_39</th>\n",
                            "    </tr>\n",
                            "  </thead>\n",
                            "  <tbody>\n",
                            "    <tr>\n",
                            "      <th>count</th>\n",
                            "      <td>581012.000000</td>\n",
                            "      <td>581012.000000</td>\n",
                            "      <td>581012.000000</td>\n",
                            "      <td>581012.000000</td>\n",
                            "      <td>581012.000000</td>\n",
                            "      <td>581012.000000</td>\n",
                            "      <td>581012.000000</td>\n",
                            "      <td>581012.000000</td>\n",
                            "      <td>581012.000000</td>\n",
                            "      <td>581012.000000</td>\n",
                            "      <td>...</td>\n",
                            "      <td>581012.000000</td>\n",
                            "      <td>581012.000000</td>\n",
                            "      <td>581012.000000</td>\n",
                            "      <td>581012.000000</td>\n",
                            "      <td>581012.000000</td>\n",
                            "      <td>581012.000000</td>\n",
                            "      <td>581012.000000</td>\n",
                            "      <td>581012.000000</td>\n",
                            "      <td>581012.000000</td>\n",
                            "      <td>581012.000000</td>\n",
                            "    </tr>\n",
                            "    <tr>\n",
                            "      <th>mean</th>\n",
                            "      <td>2959.365301</td>\n",
                            "      <td>155.656807</td>\n",
                            "      <td>14.103704</td>\n",
                            "      <td>269.428217</td>\n",
                            "      <td>46.418855</td>\n",
                            "      <td>2350.146611</td>\n",
                            "      <td>212.146049</td>\n",
                            "      <td>223.318716</td>\n",
                            "      <td>142.528263</td>\n",
                            "      <td>1980.291226</td>\n",
                            "      <td>...</td>\n",
                            "      <td>0.044175</td>\n",
                            "      <td>0.090392</td>\n",
                            "      <td>0.077716</td>\n",
                            "      <td>0.002773</td>\n",
                            "      <td>0.003255</td>\n",
                            "      <td>0.000205</td>\n",
                            "      <td>0.000513</td>\n",
                            "      <td>0.026803</td>\n",
                            "      <td>0.023762</td>\n",
                            "      <td>0.015060</td>\n",
                            "    </tr>\n",
                            "    <tr>\n",
                            "      <th>std</th>\n",
                            "      <td>279.984734</td>\n",
                            "      <td>111.913721</td>\n",
                            "      <td>7.488242</td>\n",
                            "      <td>212.549356</td>\n",
                            "      <td>58.295232</td>\n",
                            "      <td>1559.254870</td>\n",
                            "      <td>26.769889</td>\n",
                            "      <td>19.768697</td>\n",
                            "      <td>38.274529</td>\n",
                            "      <td>1324.195210</td>\n",
                            "      <td>...</td>\n",
                            "      <td>0.205483</td>\n",
                            "      <td>0.286743</td>\n",
                            "      <td>0.267725</td>\n",
                            "      <td>0.052584</td>\n",
                            "      <td>0.056957</td>\n",
                            "      <td>0.014310</td>\n",
                            "      <td>0.022641</td>\n",
                            "      <td>0.161508</td>\n",
                            "      <td>0.152307</td>\n",
                            "      <td>0.121791</td>\n",
                            "    </tr>\n",
                            "    <tr>\n",
                            "      <th>min</th>\n",
                            "      <td>1859.000000</td>\n",
                            "      <td>0.000000</td>\n",
                            "      <td>0.000000</td>\n",
                            "      <td>0.000000</td>\n",
                            "      <td>-173.000000</td>\n",
                            "      <td>0.000000</td>\n",
                            "      <td>0.000000</td>\n",
                            "      <td>0.000000</td>\n",
                            "      <td>0.000000</td>\n",
                            "      <td>0.000000</td>\n",
                            "      <td>...</td>\n",
                            "      <td>0.000000</td>\n",
                            "      <td>0.000000</td>\n",
                            "      <td>0.000000</td>\n",
                            "      <td>0.000000</td>\n",
                            "      <td>0.000000</td>\n",
                            "      <td>0.000000</td>\n",
                            "      <td>0.000000</td>\n",
                            "      <td>0.000000</td>\n",
                            "      <td>0.000000</td>\n",
                            "      <td>0.000000</td>\n",
                            "    </tr>\n",
                            "    <tr>\n",
                            "      <th>25%</th>\n",
                            "      <td>2809.000000</td>\n",
                            "      <td>58.000000</td>\n",
                            "      <td>9.000000</td>\n",
                            "      <td>108.000000</td>\n",
                            "      <td>7.000000</td>\n",
                            "      <td>1106.000000</td>\n",
                            "      <td>198.000000</td>\n",
                            "      <td>213.000000</td>\n",
                            "      <td>119.000000</td>\n",
                            "      <td>1024.000000</td>\n",
                            "      <td>...</td>\n",
                            "      <td>0.000000</td>\n",
                            "      <td>0.000000</td>\n",
                            "      <td>0.000000</td>\n",
                            "      <td>0.000000</td>\n",
                            "      <td>0.000000</td>\n",
                            "      <td>0.000000</td>\n",
                            "      <td>0.000000</td>\n",
                            "      <td>0.000000</td>\n",
                            "      <td>0.000000</td>\n",
                            "      <td>0.000000</td>\n",
                            "    </tr>\n",
                            "    <tr>\n",
                            "      <th>50%</th>\n",
                            "      <td>2996.000000</td>\n",
                            "      <td>127.000000</td>\n",
                            "      <td>13.000000</td>\n",
                            "      <td>218.000000</td>\n",
                            "      <td>30.000000</td>\n",
                            "      <td>1997.000000</td>\n",
                            "      <td>218.000000</td>\n",
                            "      <td>226.000000</td>\n",
                            "      <td>143.000000</td>\n",
                            "      <td>1710.000000</td>\n",
                            "      <td>...</td>\n",
                            "      <td>0.000000</td>\n",
                            "      <td>0.000000</td>\n",
                            "      <td>0.000000</td>\n",
                            "      <td>0.000000</td>\n",
                            "      <td>0.000000</td>\n",
                            "      <td>0.000000</td>\n",
                            "      <td>0.000000</td>\n",
                            "      <td>0.000000</td>\n",
                            "      <td>0.000000</td>\n",
                            "      <td>0.000000</td>\n",
                            "    </tr>\n",
                            "    <tr>\n",
                            "      <th>75%</th>\n",
                            "      <td>3163.000000</td>\n",
                            "      <td>260.000000</td>\n",
                            "      <td>18.000000</td>\n",
                            "      <td>384.000000</td>\n",
                            "      <td>69.000000</td>\n",
                            "      <td>3328.000000</td>\n",
                            "      <td>231.000000</td>\n",
                            "      <td>237.000000</td>\n",
                            "      <td>168.000000</td>\n",
                            "      <td>2550.000000</td>\n",
                            "      <td>...</td>\n",
                            "      <td>0.000000</td>\n",
                            "      <td>0.000000</td>\n",
                            "      <td>0.000000</td>\n",
                            "      <td>0.000000</td>\n",
                            "      <td>0.000000</td>\n",
                            "      <td>0.000000</td>\n",
                            "      <td>0.000000</td>\n",
                            "      <td>0.000000</td>\n",
                            "      <td>0.000000</td>\n",
                            "      <td>0.000000</td>\n",
                            "    </tr>\n",
                            "    <tr>\n",
                            "      <th>max</th>\n",
                            "      <td>3858.000000</td>\n",
                            "      <td>360.000000</td>\n",
                            "      <td>66.000000</td>\n",
                            "      <td>1397.000000</td>\n",
                            "      <td>601.000000</td>\n",
                            "      <td>7117.000000</td>\n",
                            "      <td>254.000000</td>\n",
                            "      <td>254.000000</td>\n",
                            "      <td>254.000000</td>\n",
                            "      <td>7173.000000</td>\n",
                            "      <td>...</td>\n",
                            "      <td>1.000000</td>\n",
                            "      <td>1.000000</td>\n",
                            "      <td>1.000000</td>\n",
                            "      <td>1.000000</td>\n",
                            "      <td>1.000000</td>\n",
                            "      <td>1.000000</td>\n",
                            "      <td>1.000000</td>\n",
                            "      <td>1.000000</td>\n",
                            "      <td>1.000000</td>\n",
                            "      <td>1.000000</td>\n",
                            "    </tr>\n",
                            "  </tbody>\n",
                            "</table>\n",
                            "<p>8 rows × 54 columns</p>\n",
                            "</div>"
                        ]
                    },
                    "metadata": {},
                    "execution_count": 6
                }
            ],
            "metadata": {}
        },
        {
            "cell_type": "markdown",
            "source": [
                "## Convert Column Types"
            ],
            "metadata": {}
        },
        {
            "cell_type": "code",
            "execution_count": 7,
            "source": [
                "data.nunique()"
            ],
            "outputs": [
                {
                    "output_type": "execute_result",
                    "data": {
                        "text/plain": [
                            "Elevation                             1978\n",
                            "Aspect                                 361\n",
                            "Slope                                   67\n",
                            "Horizontal_Distance_To_Hydrology       551\n",
                            "Vertical_Distance_To_Hydrology         700\n",
                            "Horizontal_Distance_To_Roadways       5785\n",
                            "Hillshade_9am                          207\n",
                            "Hillshade_Noon                         185\n",
                            "Hillshade_3pm                          255\n",
                            "Horizontal_Distance_To_Fire_Points    5827\n",
                            "Wilderness_Area_0                        2\n",
                            "Wilderness_Area_1                        2\n",
                            "Wilderness_Area_2                        2\n",
                            "Wilderness_Area_3                        2\n",
                            "Soil_Type_0                              2\n",
                            "Soil_Type_1                              2\n",
                            "Soil_Type_2                              2\n",
                            "Soil_Type_3                              2\n",
                            "Soil_Type_4                              2\n",
                            "Soil_Type_5                              2\n",
                            "Soil_Type_6                              2\n",
                            "Soil_Type_7                              2\n",
                            "Soil_Type_8                              2\n",
                            "Soil_Type_9                              2\n",
                            "Soil_Type_10                             2\n",
                            "Soil_Type_11                             2\n",
                            "Soil_Type_12                             2\n",
                            "Soil_Type_13                             2\n",
                            "Soil_Type_14                             2\n",
                            "Soil_Type_15                             2\n",
                            "Soil_Type_16                             2\n",
                            "Soil_Type_17                             2\n",
                            "Soil_Type_18                             2\n",
                            "Soil_Type_19                             2\n",
                            "Soil_Type_20                             2\n",
                            "Soil_Type_21                             2\n",
                            "Soil_Type_22                             2\n",
                            "Soil_Type_23                             2\n",
                            "Soil_Type_24                             2\n",
                            "Soil_Type_25                             2\n",
                            "Soil_Type_26                             2\n",
                            "Soil_Type_27                             2\n",
                            "Soil_Type_28                             2\n",
                            "Soil_Type_29                             2\n",
                            "Soil_Type_30                             2\n",
                            "Soil_Type_31                             2\n",
                            "Soil_Type_32                             2\n",
                            "Soil_Type_33                             2\n",
                            "Soil_Type_34                             2\n",
                            "Soil_Type_35                             2\n",
                            "Soil_Type_36                             2\n",
                            "Soil_Type_37                             2\n",
                            "Soil_Type_38                             2\n",
                            "Soil_Type_39                             2\n",
                            "dtype: int64"
                        ]
                    },
                    "metadata": {},
                    "execution_count": 7
                }
            ],
            "metadata": {}
        },
        {
            "cell_type": "markdown",
            "source": [
                "There are 4 Wilderness areas are 40 soil types. These are binary values: 0 (absent), 1 (present)."
            ],
            "metadata": {}
        },
        {
            "cell_type": "code",
            "execution_count": 8,
            "source": [
                "columns = data.columns\n",
                "bool_columns = [col for col in columns if col.startswith((\"Soil_Type\", \"Wilderness\"))]\n",
                "# exclude boolean columns\n",
                "num_columns = [col for col in columns if col not in bool_columns]\n",
                "# num_columns\n",
                "data[num_columns].applymap(lambda x: x.is_integer()).value_counts()"
            ],
            "outputs": [
                {
                    "output_type": "execute_result",
                    "data": {
                        "text/plain": [
                            "Elevation  Aspect  Slope  Horizontal_Distance_To_Hydrology  Vertical_Distance_To_Hydrology  Horizontal_Distance_To_Roadways  Hillshade_9am  Hillshade_Noon  Hillshade_3pm  Horizontal_Distance_To_Fire_Points\n",
                            "True       True    True   True                              True                            True                             True           True            True           True                                  581012\n",
                            "dtype: int64"
                        ]
                    },
                    "metadata": {},
                    "execution_count": 8
                }
            ],
            "metadata": {}
        },
        {
            "cell_type": "markdown",
            "source": [
                "No decimal values. We can convert the whole Data Frame to int"
            ],
            "metadata": {}
        },
        {
            "cell_type": "code",
            "execution_count": 24,
            "source": [
                "# data[bool_columns] = data[bool_columns].astype(\"bool\")\n",
                "# data.dtypes"
            ],
            "outputs": [],
            "metadata": {}
        },
        {
            "cell_type": "markdown",
            "source": [
                "### Target distribution"
            ],
            "metadata": {}
        },
        {
            "cell_type": "code",
            "execution_count": 11,
            "source": [
                "target.value_counts().plot(kind='bar')"
            ],
            "outputs": [
                {
                    "output_type": "execute_result",
                    "data": {
                        "text/plain": [
                            "<AxesSubplot:>"
                        ]
                    },
                    "metadata": {},
                    "execution_count": 11
                },
                {
                    "output_type": "display_data",
                    "data": {
                        "text/plain": [
                            "<Figure size 432x288 with 1 Axes>"
                        ],
                        "image/png": "[encoded data removed]"
                    },
                    "metadata": {
                        "needs_background": "light"
                    }
                }
            ],
            "metadata": {}
        },
        {
            "cell_type": "code",
            "execution_count": 12,
            "source": [
                "# convert target values to range[0, 6]\n",
                "min_val = target.min()\n",
                "target = target.apply(lambda y: y-min_val)"
            ],
            "outputs": [],
            "metadata": {}
        },
        {
            "cell_type": "code",
            "execution_count": 13,
            "source": [
                "# target distribution\n",
                "target.value_counts() / len(target)"
            ],
            "outputs": [
                {
                    "output_type": "execute_result",
                    "data": {
                        "text/plain": [
                            "1    0.487599\n",
                            "0    0.364605\n",
                            "2    0.061537\n",
                            "6    0.035300\n",
                            "5    0.029891\n",
                            "4    0.016339\n",
                            "3    0.004728\n",
                            "Name: Cover_Type, dtype: float64"
                        ]
                    },
                    "metadata": {},
                    "execution_count": 13
                }
            ],
            "metadata": {}
        },
        {
            "cell_type": "markdown",
            "source": [
                "## Split the data\n",
                "Let's take 100k examples and split it 80, 10, 10 (train, val, test)\n",
                "\n",
                "To keep the target distribution we'll use `stratify`"
            ],
            "metadata": {}
        },
        {
            "cell_type": "code",
            "execution_count": 14,
            "source": [
                "random_state = 21\n",
                "\n",
                "sample_size = 100000\n",
                "test_size, val_size = 10000, 10000\n",
                "\n",
                "_, X_train, _, y_train = train_test_split(data, target, stratify=target, test_size=sample_size, random_state=random_state)\n",
                "X_train, X_test, y_train, y_test = train_test_split(X_train, y_train, stratify=y_train, test_size=test_size, random_state=random_state)\n",
                "X_train, X_val, y_train, y_val = train_test_split(X_train, y_train, stratify=y_train, test_size=test_size, random_state=random_state)"
            ],
            "outputs": [],
            "metadata": {}
        },
        {
            "cell_type": "markdown",
            "source": [
                "Check shapes"
            ],
            "metadata": {}
        },
        {
            "cell_type": "code",
            "execution_count": 15,
            "source": [
                "print(\"Train shapes - data: {}, target: {}\".format(X_train.shape, y_train.shape))\n",
                "print(\"Val shapes - data: {}, target: {}\".format(X_val.shape, y_val.shape))\n",
                "print(\"Test shapes - data: {}, target: {}\".format(X_test.shape, y_test.shape))"
            ],
            "outputs": [
                {
                    "output_type": "stream",
                    "name": "stdout",
                    "text": [
                        "Train shapes - data: (80000, 54), target: (80000,)\n",
                        "Val shapes - data: (10000, 54), target: (10000,)\n",
                        "Test shapes - data: (10000, 54), target: (10000,)\n"
                    ]
                }
            ],
            "metadata": {}
        },
        {
            "cell_type": "markdown",
            "source": [
                "Check distribution"
            ],
            "metadata": {}
        },
        {
            "cell_type": "code",
            "execution_count": 16,
            "source": [
                "print(\"Classes distribution\")\n",
                "print(\"Train set: \", y_train.value_counts() / len(y_train))\n",
                "print(\"Val set: \", y_val.value_counts() / len(y_val))\n",
                "print(\"Test set: \", y_test.value_counts() / len(y_test))"
            ],
            "outputs": [
                {
                    "output_type": "stream",
                    "name": "stdout",
                    "text": [
                        "Classes distribution\n",
                        "Train set:  1    0.487600\n",
                        "0    0.364600\n",
                        "2    0.061538\n",
                        "6    0.035300\n",
                        "5    0.029888\n",
                        "4    0.016338\n",
                        "3    0.004738\n",
                        "Name: Cover_Type, dtype: float64\n",
                        "Val set:  1    0.4876\n",
                        "0    0.3646\n",
                        "2    0.0616\n",
                        "6    0.0353\n",
                        "5    0.0299\n",
                        "4    0.0163\n",
                        "3    0.0047\n",
                        "Name: Cover_Type, dtype: float64\n",
                        "Test set:  1    0.4876\n",
                        "0    0.3646\n",
                        "2    0.0615\n",
                        "6    0.0353\n",
                        "5    0.0299\n",
                        "4    0.0164\n",
                        "3    0.0047\n",
                        "Name: Cover_Type, dtype: float64\n"
                    ]
                }
            ],
            "metadata": {}
        },
        {
            "cell_type": "code",
            "execution_count": 17,
            "source": [
                "X_train.head()"
            ],
            "outputs": [
                {
                    "output_type": "execute_result",
                    "data": {
                        "text/plain": [
                            "        Elevation  Aspect  Slope  Horizontal_Distance_To_Hydrology  \\\n",
                            "316516     2935.0    24.0   11.0                              30.0   \n",
                            "552342     3314.0    93.0   20.0                             124.0   \n",
                            "518366     3179.0   193.0    5.0                             242.0   \n",
                            "211206     3215.0   135.0   10.0                              60.0   \n",
                            "246330     3034.0   321.0    7.0                             295.0   \n",
                            "\n",
                            "        Vertical_Distance_To_Hydrology  Horizontal_Distance_To_Roadways  \\\n",
                            "316516                             3.0                           1179.0   \n",
                            "552342                            16.0                           2382.0   \n",
                            "518366                            38.0                            268.0   \n",
                            "211206                             4.0                           5116.0   \n",
                            "246330                            82.0                           1215.0   \n",
                            "\n",
                            "        Hillshade_9am  Hillshade_Noon  Hillshade_3pm  \\\n",
                            "316516          214.0           215.0          136.0   \n",
                            "552342          247.0           205.0           77.0   \n",
                            "518366          219.0           244.0          160.0   \n",
                            "211206          236.0           236.0          131.0   \n",
                            "246330          203.0           234.0          170.0   \n",
                            "\n",
                            "        Horizontal_Distance_To_Fire_Points  ...  Soil_Type_30  Soil_Type_31  \\\n",
                            "316516                              1266.0  ...         False         False   \n",
                            "552342                              3890.0  ...         False         False   \n",
                            "518366                              2938.0  ...          True         False   \n",
                            "211206                               277.0  ...         False         False   \n",
                            "246330                              2034.0  ...         False          True   \n",
                            "\n",
                            "        Soil_Type_32  Soil_Type_33  Soil_Type_34  Soil_Type_35  Soil_Type_36  \\\n",
                            "316516         False         False         False         False         False   \n",
                            "552342         False         False         False         False         False   \n",
                            "518366         False         False         False         False         False   \n",
                            "211206         False         False         False         False         False   \n",
                            "246330         False         False         False         False         False   \n",
                            "\n",
                            "        Soil_Type_37  Soil_Type_38  Soil_Type_39  \n",
                            "316516         False         False         False  \n",
                            "552342         False         False          True  \n",
                            "518366         False         False         False  \n",
                            "211206          True         False         False  \n",
                            "246330         False         False         False  \n",
                            "\n",
                            "[5 rows x 54 columns]"
                        ],
                        "text/html": [
                            "<div>\n",
                            "<style scoped>\n",
                            "    .dataframe tbody tr th:only-of-type {\n",
                            "        vertical-align: middle;\n",
                            "    }\n",
                            "\n",
                            "    .dataframe tbody tr th {\n",
                            "        vertical-align: top;\n",
                            "    }\n",
                            "\n",
                            "    .dataframe thead th {\n",
                            "        text-align: right;\n",
                            "    }\n",
                            "</style>\n",
                            "<table border=\"1\" class=\"dataframe\">\n",
                            "  <thead>\n",
                            "    <tr style=\"text-align: right;\">\n",
                            "      <th></th>\n",
                            "      <th>Elevation</th>\n",
                            "      <th>Aspect</th>\n",
                            "      <th>Slope</th>\n",
                            "      <th>Horizontal_Distance_To_Hydrology</th>\n",
                            "      <th>Vertical_Distance_To_Hydrology</th>\n",
                            "      <th>Horizontal_Distance_To_Roadways</th>\n",
                            "      <th>Hillshade_9am</th>\n",
                            "      <th>Hillshade_Noon</th>\n",
                            "      <th>Hillshade_3pm</th>\n",
                            "      <th>Horizontal_Distance_To_Fire_Points</th>\n",
                            "      <th>...</th>\n",
                            "      <th>Soil_Type_30</th>\n",
                            "      <th>Soil_Type_31</th>\n",
                            "      <th>Soil_Type_32</th>\n",
                            "      <th>Soil_Type_33</th>\n",
                            "      <th>Soil_Type_34</th>\n",
                            "      <th>Soil_Type_35</th>\n",
                            "      <th>Soil_Type_36</th>\n",
                            "      <th>Soil_Type_37</th>\n",
                            "      <th>Soil_Type_38</th>\n",
                            "      <th>Soil_Type_39</th>\n",
                            "    </tr>\n",
                            "  </thead>\n",
                            "  <tbody>\n",
                            "    <tr>\n",
                            "      <th>316516</th>\n",
                            "      <td>2935.0</td>\n",
                            "      <td>24.0</td>\n",
                            "      <td>11.0</td>\n",
                            "      <td>30.0</td>\n",
                            "      <td>3.0</td>\n",
                            "      <td>1179.0</td>\n",
                            "      <td>214.0</td>\n",
                            "      <td>215.0</td>\n",
                            "      <td>136.0</td>\n",
                            "      <td>1266.0</td>\n",
                            "      <td>...</td>\n",
                            "      <td>False</td>\n",
                            "      <td>False</td>\n",
                            "      <td>False</td>\n",
                            "      <td>False</td>\n",
                            "      <td>False</td>\n",
                            "      <td>False</td>\n",
                            "      <td>False</td>\n",
                            "      <td>False</td>\n",
                            "      <td>False</td>\n",
                            "      <td>False</td>\n",
                            "    </tr>\n",
                            "    <tr>\n",
                            "      <th>552342</th>\n",
                            "      <td>3314.0</td>\n",
                            "      <td>93.0</td>\n",
                            "      <td>20.0</td>\n",
                            "      <td>124.0</td>\n",
                            "      <td>16.0</td>\n",
                            "      <td>2382.0</td>\n",
                            "      <td>247.0</td>\n",
                            "      <td>205.0</td>\n",
                            "      <td>77.0</td>\n",
                            "      <td>3890.0</td>\n",
                            "      <td>...</td>\n",
                            "      <td>False</td>\n",
                            "      <td>False</td>\n",
                            "      <td>False</td>\n",
                            "      <td>False</td>\n",
                            "      <td>False</td>\n",
                            "      <td>False</td>\n",
                            "      <td>False</td>\n",
                            "      <td>False</td>\n",
                            "      <td>False</td>\n",
                            "      <td>True</td>\n",
                            "    </tr>\n",
                            "    <tr>\n",
                            "      <th>518366</th>\n",
                            "      <td>3179.0</td>\n",
                            "      <td>193.0</td>\n",
                            "      <td>5.0</td>\n",
                            "      <td>242.0</td>\n",
                            "      <td>38.0</td>\n",
                            "      <td>268.0</td>\n",
                            "      <td>219.0</td>\n",
                            "      <td>244.0</td>\n",
                            "      <td>160.0</td>\n",
                            "      <td>2938.0</td>\n",
                            "      <td>...</td>\n",
                            "      <td>True</td>\n",
                            "      <td>False</td>\n",
                            "      <td>False</td>\n",
                            "      <td>False</td>\n",
                            "      <td>False</td>\n",
                            "      <td>False</td>\n",
                            "      <td>False</td>\n",
                            "      <td>False</td>\n",
                            "      <td>False</td>\n",
                            "      <td>False</td>\n",
                            "    </tr>\n",
                            "    <tr>\n",
                            "      <th>211206</th>\n",
                            "      <td>3215.0</td>\n",
                            "      <td>135.0</td>\n",
                            "      <td>10.0</td>\n",
                            "      <td>60.0</td>\n",
                            "      <td>4.0</td>\n",
                            "      <td>5116.0</td>\n",
                            "      <td>236.0</td>\n",
                            "      <td>236.0</td>\n",
                            "      <td>131.0</td>\n",
                            "      <td>277.0</td>\n",
                            "      <td>...</td>\n",
                            "      <td>False</td>\n",
                            "      <td>False</td>\n",
                            "      <td>False</td>\n",
                            "      <td>False</td>\n",
                            "      <td>False</td>\n",
                            "      <td>False</td>\n",
                            "      <td>False</td>\n",
                            "      <td>True</td>\n",
                            "      <td>False</td>\n",
                            "      <td>False</td>\n",
                            "    </tr>\n",
                            "    <tr>\n",
                            "      <th>246330</th>\n",
                            "      <td>3034.0</td>\n",
                            "      <td>321.0</td>\n",
                            "      <td>7.0</td>\n",
                            "      <td>295.0</td>\n",
                            "      <td>82.0</td>\n",
                            "      <td>1215.0</td>\n",
                            "      <td>203.0</td>\n",
                            "      <td>234.0</td>\n",
                            "      <td>170.0</td>\n",
                            "      <td>2034.0</td>\n",
                            "      <td>...</td>\n",
                            "      <td>False</td>\n",
                            "      <td>True</td>\n",
                            "      <td>False</td>\n",
                            "      <td>False</td>\n",
                            "      <td>False</td>\n",
                            "      <td>False</td>\n",
                            "      <td>False</td>\n",
                            "      <td>False</td>\n",
                            "      <td>False</td>\n",
                            "      <td>False</td>\n",
                            "    </tr>\n",
                            "  </tbody>\n",
                            "</table>\n",
                            "<p>5 rows × 54 columns</p>\n",
                            "</div>"
                        ]
                    },
                    "metadata": {},
                    "execution_count": 17
                }
            ],
            "metadata": {}
        },
        {
            "cell_type": "markdown",
            "source": [
                "## EDA for the training data"
            ],
            "metadata": {}
        },
        {
            "cell_type": "code",
            "execution_count": 18,
            "source": [
                "cov = X_train.copy()\n",
                "cov = cov.merge(y_train, left_index=True, right_index=True)\n",
                "cov.head()"
            ],
            "outputs": [
                {
                    "output_type": "execute_result",
                    "data": {
                        "text/plain": [
                            "        Elevation  Aspect  Slope  Horizontal_Distance_To_Hydrology  \\\n",
                            "316516     2935.0    24.0   11.0                              30.0   \n",
                            "552342     3314.0    93.0   20.0                             124.0   \n",
                            "518366     3179.0   193.0    5.0                             242.0   \n",
                            "211206     3215.0   135.0   10.0                              60.0   \n",
                            "246330     3034.0   321.0    7.0                             295.0   \n",
                            "\n",
                            "        Vertical_Distance_To_Hydrology  Horizontal_Distance_To_Roadways  \\\n",
                            "316516                             3.0                           1179.0   \n",
                            "552342                            16.0                           2382.0   \n",
                            "518366                            38.0                            268.0   \n",
                            "211206                             4.0                           5116.0   \n",
                            "246330                            82.0                           1215.0   \n",
                            "\n",
                            "        Hillshade_9am  Hillshade_Noon  Hillshade_3pm  \\\n",
                            "316516          214.0           215.0          136.0   \n",
                            "552342          247.0           205.0           77.0   \n",
                            "518366          219.0           244.0          160.0   \n",
                            "211206          236.0           236.0          131.0   \n",
                            "246330          203.0           234.0          170.0   \n",
                            "\n",
                            "        Horizontal_Distance_To_Fire_Points  ...  Soil_Type_31  Soil_Type_32  \\\n",
                            "316516                              1266.0  ...         False         False   \n",
                            "552342                              3890.0  ...         False         False   \n",
                            "518366                              2938.0  ...         False         False   \n",
                            "211206                               277.0  ...         False         False   \n",
                            "246330                              2034.0  ...          True         False   \n",
                            "\n",
                            "        Soil_Type_33  Soil_Type_34  Soil_Type_35  Soil_Type_36  Soil_Type_37  \\\n",
                            "316516         False         False         False         False         False   \n",
                            "552342         False         False         False         False         False   \n",
                            "518366         False         False         False         False         False   \n",
                            "211206         False         False         False         False          True   \n",
                            "246330         False         False         False         False         False   \n",
                            "\n",
                            "        Soil_Type_38  Soil_Type_39  Cover_Type  \n",
                            "316516         False         False           0  \n",
                            "552342         False          True           6  \n",
                            "518366         False         False           1  \n",
                            "211206         False         False           0  \n",
                            "246330         False         False           1  \n",
                            "\n",
                            "[5 rows x 55 columns]"
                        ],
                        "text/html": [
                            "<div>\n",
                            "<style scoped>\n",
                            "    .dataframe tbody tr th:only-of-type {\n",
                            "        vertical-align: middle;\n",
                            "    }\n",
                            "\n",
                            "    .dataframe tbody tr th {\n",
                            "        vertical-align: top;\n",
                            "    }\n",
                            "\n",
                            "    .dataframe thead th {\n",
                            "        text-align: right;\n",
                            "    }\n",
                            "</style>\n",
                            "<table border=\"1\" class=\"dataframe\">\n",
                            "  <thead>\n",
                            "    <tr style=\"text-align: right;\">\n",
                            "      <th></th>\n",
                            "      <th>Elevation</th>\n",
                            "      <th>Aspect</th>\n",
                            "      <th>Slope</th>\n",
                            "      <th>Horizontal_Distance_To_Hydrology</th>\n",
                            "      <th>Vertical_Distance_To_Hydrology</th>\n",
                            "      <th>Horizontal_Distance_To_Roadways</th>\n",
                            "      <th>Hillshade_9am</th>\n",
                            "      <th>Hillshade_Noon</th>\n",
                            "      <th>Hillshade_3pm</th>\n",
                            "      <th>Horizontal_Distance_To_Fire_Points</th>\n",
                            "      <th>...</th>\n",
                            "      <th>Soil_Type_31</th>\n",
                            "      <th>Soil_Type_32</th>\n",
                            "      <th>Soil_Type_33</th>\n",
                            "      <th>Soil_Type_34</th>\n",
                            "      <th>Soil_Type_35</th>\n",
                            "      <th>Soil_Type_36</th>\n",
                            "      <th>Soil_Type_37</th>\n",
                            "      <th>Soil_Type_38</th>\n",
                            "      <th>Soil_Type_39</th>\n",
                            "      <th>Cover_Type</th>\n",
                            "    </tr>\n",
                            "  </thead>\n",
                            "  <tbody>\n",
                            "    <tr>\n",
                            "      <th>316516</th>\n",
                            "      <td>2935.0</td>\n",
                            "      <td>24.0</td>\n",
                            "      <td>11.0</td>\n",
                            "      <td>30.0</td>\n",
                            "      <td>3.0</td>\n",
                            "      <td>1179.0</td>\n",
                            "      <td>214.0</td>\n",
                            "      <td>215.0</td>\n",
                            "      <td>136.0</td>\n",
                            "      <td>1266.0</td>\n",
                            "      <td>...</td>\n",
                            "      <td>False</td>\n",
                            "      <td>False</td>\n",
                            "      <td>False</td>\n",
                            "      <td>False</td>\n",
                            "      <td>False</td>\n",
                            "      <td>False</td>\n",
                            "      <td>False</td>\n",
                            "      <td>False</td>\n",
                            "      <td>False</td>\n",
                            "      <td>0</td>\n",
                            "    </tr>\n",
                            "    <tr>\n",
                            "      <th>552342</th>\n",
                            "      <td>3314.0</td>\n",
                            "      <td>93.0</td>\n",
                            "      <td>20.0</td>\n",
                            "      <td>124.0</td>\n",
                            "      <td>16.0</td>\n",
                            "      <td>2382.0</td>\n",
                            "      <td>247.0</td>\n",
                            "      <td>205.0</td>\n",
                            "      <td>77.0</td>\n",
                            "      <td>3890.0</td>\n",
                            "      <td>...</td>\n",
                            "      <td>False</td>\n",
                            "      <td>False</td>\n",
                            "      <td>False</td>\n",
                            "      <td>False</td>\n",
                            "      <td>False</td>\n",
                            "      <td>False</td>\n",
                            "      <td>False</td>\n",
                            "      <td>False</td>\n",
                            "      <td>True</td>\n",
                            "      <td>6</td>\n",
                            "    </tr>\n",
                            "    <tr>\n",
                            "      <th>518366</th>\n",
                            "      <td>3179.0</td>\n",
                            "      <td>193.0</td>\n",
                            "      <td>5.0</td>\n",
                            "      <td>242.0</td>\n",
                            "      <td>38.0</td>\n",
                            "      <td>268.0</td>\n",
                            "      <td>219.0</td>\n",
                            "      <td>244.0</td>\n",
                            "      <td>160.0</td>\n",
                            "      <td>2938.0</td>\n",
                            "      <td>...</td>\n",
                            "      <td>False</td>\n",
                            "      <td>False</td>\n",
                            "      <td>False</td>\n",
                            "      <td>False</td>\n",
                            "      <td>False</td>\n",
                            "      <td>False</td>\n",
                            "      <td>False</td>\n",
                            "      <td>False</td>\n",
                            "      <td>False</td>\n",
                            "      <td>1</td>\n",
                            "    </tr>\n",
                            "    <tr>\n",
                            "      <th>211206</th>\n",
                            "      <td>3215.0</td>\n",
                            "      <td>135.0</td>\n",
                            "      <td>10.0</td>\n",
                            "      <td>60.0</td>\n",
                            "      <td>4.0</td>\n",
                            "      <td>5116.0</td>\n",
                            "      <td>236.0</td>\n",
                            "      <td>236.0</td>\n",
                            "      <td>131.0</td>\n",
                            "      <td>277.0</td>\n",
                            "      <td>...</td>\n",
                            "      <td>False</td>\n",
                            "      <td>False</td>\n",
                            "      <td>False</td>\n",
                            "      <td>False</td>\n",
                            "      <td>False</td>\n",
                            "      <td>False</td>\n",
                            "      <td>True</td>\n",
                            "      <td>False</td>\n",
                            "      <td>False</td>\n",
                            "      <td>0</td>\n",
                            "    </tr>\n",
                            "    <tr>\n",
                            "      <th>246330</th>\n",
                            "      <td>3034.0</td>\n",
                            "      <td>321.0</td>\n",
                            "      <td>7.0</td>\n",
                            "      <td>295.0</td>\n",
                            "      <td>82.0</td>\n",
                            "      <td>1215.0</td>\n",
                            "      <td>203.0</td>\n",
                            "      <td>234.0</td>\n",
                            "      <td>170.0</td>\n",
                            "      <td>2034.0</td>\n",
                            "      <td>...</td>\n",
                            "      <td>True</td>\n",
                            "      <td>False</td>\n",
                            "      <td>False</td>\n",
                            "      <td>False</td>\n",
                            "      <td>False</td>\n",
                            "      <td>False</td>\n",
                            "      <td>False</td>\n",
                            "      <td>False</td>\n",
                            "      <td>False</td>\n",
                            "      <td>1</td>\n",
                            "    </tr>\n",
                            "  </tbody>\n",
                            "</table>\n",
                            "<p>5 rows × 55 columns</p>\n",
                            "</div>"
                        ]
                    },
                    "metadata": {},
                    "execution_count": 18
                }
            ],
            "metadata": {}
        },
        {
            "cell_type": "code",
            "execution_count": 19,
            "source": [
                "cov.rename(columns= {\"Cover_Type\": \"target\"}, inplace=True)"
            ],
            "outputs": [],
            "metadata": {}
        },
        {
            "cell_type": "code",
            "execution_count": 22,
            "source": [
                "corr_matrix = cov.corr()\n",
                "\n",
                "f = plt.figure(figsize=(16, 12))\n",
                "plt.matshow(corr_matrix, fignum=f.number)\n",
                "plt.xticks(range(cov.select_dtypes(['number']).shape[1]), cov.select_dtypes(['number']).columns, fontsize=14, rotation=90)\n",
                "plt.yticks(range(cov.select_dtypes(['number']).shape[1]), cov.select_dtypes(['number']).columns, fontsize=14)\n",
                "cb = plt.colorbar()\n",
                "cb.ax.tick_params(labelsize=14)\n",
                "plt.title('Correlation Matrix', fontsize=16)"
            ],
            "outputs": [
                {
                    "output_type": "execute_result",
                    "data": {
                        "text/plain": [
                            "Text(0.5, 1.0, 'Correlation Matrix')"
                        ]
                    },
                    "metadata": {},
                    "execution_count": 22
                },
                {
                    "output_type": "display_data",
                    "data": {
                        "text/plain": [
                            "<Figure size 1152x864 with 2 Axes>"
                        ],
                        "image/png": "[encoded data removed]"
                    },
                    "metadata": {
                        "needs_background": "light"
                    }
                }
            ],
            "metadata": {}
        },
        {
            "cell_type": "code",
            "execution_count": 23,
            "source": [
                "corr_matrix[\"target\"].sort_values(ascending=False)"
            ],
            "outputs": [
                {
                    "output_type": "execute_result",
                    "data": {
                        "text/plain": [
                            "target                                1.000000\n",
                            "Wilderness_Area_3                     0.319981\n",
                            "Soil_Type_9                           0.242932\n",
                            "Soil_Type_37                          0.154884\n",
                            "Soil_Type_38                          0.153122\n",
                            "Slope                                 0.149828\n",
                            "Soil_Type_39                          0.137054\n",
                            "Soil_Type_1                           0.114865\n",
                            "Soil_Type_5                           0.113135\n",
                            "Soil_Type_3                           0.097515\n",
                            "Soil_Type_16                          0.091325\n",
                            "Soil_Type_0                           0.090003\n",
                            "Soil_Type_34                          0.081489\n",
                            "Soil_Type_36                          0.081214\n",
                            "Soil_Type_4                           0.077554\n",
                            "Vertical_Distance_To_Hydrology        0.076480\n",
                            "Soil_Type_13                          0.067651\n",
                            "Soil_Type_2                           0.065003\n",
                            "Wilderness_Area_2                     0.064604\n",
                            "Soil_Type_10                          0.036499\n",
                            "Soil_Type_12                          0.023553\n",
                            "Soil_Type_35                          0.023248\n",
                            "Aspect                                0.015526\n",
                            "Soil_Type_17                          0.011156\n",
                            "Soil_Type_15                          0.008728\n",
                            "Soil_Type_33                          0.005972\n",
                            "Soil_Type_25                          0.000294\n",
                            "Soil_Type_6                          -0.000583\n",
                            "Soil_Type_27                         -0.002376\n",
                            "Soil_Type_7                          -0.003455\n",
                            "Soil_Type_8                          -0.005484\n",
                            "Soil_Type_29                         -0.006142\n",
                            "Soil_Type_24                         -0.006495\n",
                            "Soil_Type_26                         -0.016118\n",
                            "Soil_Type_11                         -0.024066\n",
                            "Soil_Type_19                         -0.026338\n",
                            "Soil_Type_20                         -0.026348\n",
                            "Horizontal_Distance_To_Hydrology     -0.026469\n",
                            "Soil_Type_18                         -0.032530\n",
                            "Hillshade_9am                        -0.039323\n",
                            "Wilderness_Area_1                    -0.045348\n",
                            "Hillshade_3pm                        -0.047604\n",
                            "Soil_Type_32                         -0.062787\n",
                            "Soil_Type_30                         -0.066551\n",
                            "Soil_Type_23                         -0.069494\n",
                            "Soil_Type_31                         -0.077923\n",
                            "Hillshade_Noon                       -0.101462\n",
                            "Horizontal_Distance_To_Fire_Points   -0.107358\n",
                            "Soil_Type_28                         -0.123624\n",
                            "Soil_Type_22                         -0.135413\n",
                            "Soil_Type_21                         -0.140580\n",
                            "Horizontal_Distance_To_Roadways      -0.154261\n",
                            "Wilderness_Area_0                    -0.200500\n",
                            "Elevation                            -0.269402\n",
                            "Soil_Type_14                               NaN\n",
                            "Name: target, dtype: float64"
                        ]
                    },
                    "metadata": {},
                    "execution_count": 23
                }
            ],
            "metadata": {}
        },
        {
            "cell_type": "code",
            "execution_count": null,
            "source": [
                "cov[\"Soil_Type_14\"].value_counts()"
            ],
            "outputs": [],
            "metadata": {}
        },
        {
            "cell_type": "markdown",
            "source": [
                "Soil Type 14 is never present. Drop it"
            ],
            "metadata": {}
        },
        {
            "cell_type": "code",
            "execution_count": null,
            "source": [
                "cov = cov.drop(\"Soil_Type_14\", axis=1)"
            ],
            "outputs": [],
            "metadata": {}
        },
        {
            "cell_type": "markdown",
            "source": [
                "### Exploring Wilderness areas"
            ],
            "metadata": {}
        },
        {
            "cell_type": "code",
            "execution_count": null,
            "source": [
                "wild_cols = [col for col in cov.columns if col.startswith(\"Wilderness\")]\n",
                "wild = cov[wild_cols]"
            ],
            "outputs": [],
            "metadata": {}
        },
        {
            "cell_type": "code",
            "execution_count": null,
            "source": [
                "# distribution\n",
                "wild.sum()"
            ],
            "outputs": [],
            "metadata": {}
        },
        {
            "cell_type": "code",
            "execution_count": null,
            "source": [
                "# unique values\n",
                "wild.sum(axis=1).nunique()"
            ],
            "outputs": [],
            "metadata": {}
        },
        {
            "cell_type": "markdown",
            "source": [
                "Based on that we can tell, there is always one wilderness area in each sample"
            ],
            "metadata": {}
        },
        {
            "cell_type": "code",
            "execution_count": null,
            "source": [
                "corr_matrix[\"target\"][wild_cols]"
            ],
            "outputs": [],
            "metadata": {}
        },
        {
            "cell_type": "markdown",
            "source": [
                "Check distribution for Area 0 and 3"
            ],
            "metadata": {}
        },
        {
            "cell_type": "code",
            "execution_count": 21,
            "source": [
                "area3 = cov.groupby([\"Wilderness_Area_3\"])\n",
                "area0 = cov.groupby([\"Wilderness_Area_0\"])"
            ],
            "outputs": [],
            "metadata": {}
        },
        {
            "cell_type": "code",
            "execution_count": null,
            "source": [
                "cov[\"target\"].hist(by=cov[\"Wilderness_Area_3\"])"
            ],
            "outputs": [],
            "metadata": {}
        },
        {
            "cell_type": "code",
            "execution_count": null,
            "source": [
                "cov[\"target\"].hist(by=cov[\"Wilderness_Area_0\"])"
            ],
            "outputs": [],
            "metadata": {}
        },
        {
            "cell_type": "code",
            "execution_count": null,
            "source": [
                "area3.target.value_counts()"
            ],
            "outputs": [],
            "metadata": {}
        },
        {
            "cell_type": "code",
            "execution_count": null,
            "source": [
                "area0.target.value_counts()"
            ],
            "outputs": [],
            "metadata": {}
        },
        {
            "cell_type": "code",
            "execution_count": null,
            "source": [
                "cov.target.value_counts().plot(kind='bar')"
            ],
            "outputs": [],
            "metadata": {}
        },
        {
            "cell_type": "markdown",
            "source": [
                "Same but with style"
            ],
            "metadata": {}
        },
        {
            "cell_type": "code",
            "execution_count": null,
            "source": [
                "cov.target.value_counts().to_frame().style.bar()"
            ],
            "outputs": [],
            "metadata": {}
        },
        {
            "cell_type": "code",
            "execution_count": null,
            "source": [
                "cov.Elevation.hist(bins=10)"
            ],
            "outputs": [],
            "metadata": {}
        },
        {
            "cell_type": "code",
            "execution_count": null,
            "source": [
                "# create categories\n",
                "cov[\"elev_cat\"] = pd.cut(cov[\"Elevation\"],\n",
                "                        bins=[0, 2500, 2800, 3100, 3300, np.inf],\n",
                "                        labels=[1, 2, 3, 4, 5])\n",
                "# convert to numerical\n",
                "cov[\"elev_cat\"] = cov[\"elev_cat\"].cat.codes\n",
                "\n",
                "cov[\"elev_cat\"].hist()"
            ],
            "outputs": [],
            "metadata": {}
        },
        {
            "cell_type": "code",
            "execution_count": null,
            "source": [
                "corr_matrix = cov.corr()\n",
                "corr_matrix.target.sort_values(ascending=False)"
            ],
            "outputs": [],
            "metadata": {}
        },
        {
            "cell_type": "code",
            "execution_count": null,
            "source": [
                "corr_matrix = cov.corr()\n",
                "corr_matrix.target.sort_values(ascending=False)\n",
                "\n",
                "f = plt.figure(figsize=(16, 12))\n",
                "plt.matshow(corr_matrix, fignum=f.number)\n",
                "plt.xticks(range(cov.select_dtypes(['number']).shape[1]), cov.select_dtypes(['number']).columns, fontsize=14, rotation=90)\n",
                "plt.yticks(range(cov.select_dtypes(['number']).shape[1]), cov.select_dtypes(['number']).columns, fontsize=14)\n",
                "cb = plt.colorbar()\n",
                "cb.ax.tick_params(labelsize=14)\n",
                "plt.title('Correlation Matrix', fontsize=16)"
            ],
            "outputs": [],
            "metadata": {}
        },
        {
            "cell_type": "code",
            "execution_count": null,
            "source": [
                "corr_matrix.target.sort_values(ascending=False)"
            ],
            "outputs": [],
            "metadata": {}
        },
        {
            "cell_type": "code",
            "execution_count": null,
            "source": [],
            "outputs": [],
            "metadata": {}
        }
    ],
    "metadata": {
        "orig_nbformat": 4,
        "language_info": {
            "name": "python",
            "version": "3.8.10",
            "mimetype": "text/x-python",
            "codemirror_mode": {
                "name": "ipython",
                "version": 3
            },
            "pygments_lexer": "ipython3",
            "nbconvert_exporter": "python",
            "file_extension": ".py"
        },
        "kernelspec": {
            "name": "python3",
            "display_name": "Python 3.8.10 64-bit ('venv': venv)"
        },
        "interpreter": {
            "hash": "3334af37608730059cac7b3f27829c6d6cc60a4cb6a800f27ed492452c2e1a43"
        }
    },
    "nbformat": 4,
    "nbformat_minor": 2
}